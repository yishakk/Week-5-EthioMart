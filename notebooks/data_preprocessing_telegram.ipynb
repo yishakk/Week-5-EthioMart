{
 "cells": [
  {
   "cell_type": "code",
   "execution_count": 1,
   "metadata": {},
   "outputs": [],
   "source": [
    "import os, sys\n",
    "notebook_dir = os.getcwd()\n",
    "sys.path.append(os.path.abspath(os.path.join(notebook_dir,'..')))"
   ]
  },
  {
   "cell_type": "code",
   "execution_count": 6,
   "metadata": {},
   "outputs": [],
   "source": [
    "from scripts.data_load import load_data\n",
    "import re"
   ]
  },
  {
   "cell_type": "code",
   "execution_count": 5,
   "metadata": {},
   "outputs": [],
   "source": [
    "df = load_data('../Data/telegram_data.csv')"
   ]
  },
  {
   "cell_type": "code",
   "execution_count": 7,
   "metadata": {},
   "outputs": [
    {
     "name": "stdout",
     "output_type": "stream",
     "text": [
      "Checking for NaN values in the 'Message' column:\n",
      "Number of NaN values in 'Message' column: 2565\n"
     ]
    }
   ],
   "source": [
    "print(\"Checking for NaN values in the 'Message' column:\")\n",
    "nan_count = df['Message'].isnull().sum()\n",
    "print(f\"Number of NaN values in 'Message' column: {nan_count}\")"
   ]
  },
  {
   "cell_type": "code",
   "execution_count": 8,
   "metadata": {},
   "outputs": [
    {
     "name": "stdout",
     "output_type": "stream",
     "text": [
      "Dataset shape after dropping NaN values in 'Message' column: (3258, 6)\n"
     ]
    }
   ],
   "source": [
    "df = df.dropna(subset=['Message'])\n",
    "\n",
    "# Print the shape of the dataset after dropping NaN values in the \"Message\" column\n",
    "print(f\"Dataset shape after dropping NaN values in 'Message' column: {df.shape}\")"
   ]
  },
  {
   "cell_type": "code",
   "execution_count": 9,
   "metadata": {},
   "outputs": [
    {
     "data": {
      "text/plain": [
       "0       ❇️100 Pieces Disposable Food Cover, Plastic Wr...\n",
       "1       ❇️ 100 Pieces Disposable Food Cover, Plastic W...\n",
       "2            😠😠😠😠😠😠👁👁👁👁👁👁\\n❇️ Rechargeable Flawless Brows\n",
       "4       😠😠😠😠😠😠👁👁👁👁👁👁\\n❇️ Rechargeable Flawless Brows\\n...\n",
       "9       ❇️Bottle and nipple brush\\n\\n    ዋጋ💵፦  💰 350 ብ...\n",
       "                              ...                        \n",
       "5818    ❇️LED Crystal Table Lamp \\n\\n🔰Very suitable fo...\n",
       "5819    ❇️100 Pieces Disposable Food Cover, Plastic Wr...\n",
       "5820    ❇️ 100 Pieces Disposable Food Cover, Plastic W...\n",
       "5821                              ❇️Waist Training Corset\n",
       "5822                              ❇️Waist Training Corset\n",
       "Name: Message, Length: 3258, dtype: object"
      ]
     },
     "execution_count": 9,
     "metadata": {},
     "output_type": "execute_result"
    }
   ],
   "source": [
    "message_df=df['Message']\n",
    "message_df"
   ]
  },
  {
   "cell_type": "code",
   "execution_count": 10,
   "metadata": {},
   "outputs": [
    {
     "name": "stdout",
     "output_type": "stream",
     "text": [
      "      Channel Title Channel Username     ID  \\\n",
      "0  AwasMart-አዋስማርት🎁        @AwasMart  10204   \n",
      "1  AwasMart-አዋስማርት🎁        @AwasMart  10203   \n",
      "2  AwasMart-አዋስማርት🎁        @AwasMart  10202   \n",
      "4  AwasMart-አዋስማርት🎁        @AwasMart  10200   \n",
      "9  AwasMart-አዋስማርት🎁        @AwasMart  10195   \n",
      "\n",
      "                                             Message  \\\n",
      "0  100 Pieces Disposable Food Cover, Plastic Wrap...   \n",
      "1   100 Pieces Disposable Food Cover, Plastic Wra...   \n",
      "2                     \\n Rechargeable Flawless Brows   \n",
      "4  \\n Rechargeable Flawless Brows\\n      High Qua...   \n",
      "9  Bottle and nipple brush\\n\\n    ዋጋ፦   350 ብር\\n\\...   \n",
      "\n",
      "                        Date                  Media Path  \n",
      "0  2025-01-20 18:38:37+00:00                         NaN  \n",
      "1  2025-01-20 18:38:37+00:00  photos\\@AwasMart_10203.jpg  \n",
      "2  2025-01-20 12:15:15+00:00                         NaN  \n",
      "4  2025-01-20 12:15:15+00:00  photos\\@AwasMart_10200.jpg  \n",
      "9  2025-01-20 08:09:44+00:00  photos\\@AwasMart_10195.jpg  \n"
     ]
    }
   ],
   "source": [
    "def remove_emojis(text):\n",
    "    emoji_pattern = re.compile(\n",
    "        \"[\" \n",
    "        \"\\U0001F600-\\U0001F64F\"  # emoticons\n",
    "        \"\\U0001F300-\\U0001F5FF\"  # symbols & pictographs\n",
    "        \"\\U0001F680-\\U0001F6FF\"  # transport & map symbols\n",
    "        \"\\U0001F700-\\U0001F77F\"  # alchemical symbols\n",
    "        \"\\U0001F780-\\U0001F7FF\"  # Geometric Shapes Extended\n",
    "        \"\\U0001F800-\\U0001F8FF\"  # Supplemental Arrows-C\n",
    "        \"\\U0001F900-\\U0001F9FF\"  # Supplemental Symbols and Pictographs\n",
    "        \"\\U0001FA00-\\U0001FA6F\"  # Chess Symbols\n",
    "        \"\\U0001FA70-\\U0001FAFF\"  # Symbols and Pictographs Extended-A\n",
    "        \"\\U00002702-\\U000027B0\"  # Dingbats\n",
    "        \"\\U000024C2-\\U0001F251\" \n",
    "        \"]+\", \n",
    "        flags=re.UNICODE\n",
    "    )\n",
    "    return emoji_pattern.sub(r'', text)\n",
    "\n",
    "# Apply the function to the 'Message' column\n",
    "df['Message'] = df['Message'].apply(remove_emojis)\n",
    "\n",
    "# Display the updated DataFrame\n",
    "print(df.head())"
   ]
  },
  {
   "cell_type": "code",
   "execution_count": 11,
   "metadata": {},
   "outputs": [],
   "source": [
    "df.to_csv('../Data/clean_data_telegram.csv')"
   ]
  },
  {
   "cell_type": "code",
   "execution_count": 12,
   "metadata": {},
   "outputs": [
    {
     "data": {
      "text/html": [
       "<div>\n",
       "<style scoped>\n",
       "    .dataframe tbody tr th:only-of-type {\n",
       "        vertical-align: middle;\n",
       "    }\n",
       "\n",
       "    .dataframe tbody tr th {\n",
       "        vertical-align: top;\n",
       "    }\n",
       "\n",
       "    .dataframe thead th {\n",
       "        text-align: right;\n",
       "    }\n",
       "</style>\n",
       "<table border=\"1\" class=\"dataframe\">\n",
       "  <thead>\n",
       "    <tr style=\"text-align: right;\">\n",
       "      <th></th>\n",
       "      <th>Channel Title</th>\n",
       "      <th>Channel Username</th>\n",
       "      <th>ID</th>\n",
       "      <th>Message</th>\n",
       "      <th>Date</th>\n",
       "      <th>Media Path</th>\n",
       "      <th>Labeled_Message</th>\n",
       "    </tr>\n",
       "  </thead>\n",
       "  <tbody>\n",
       "    <tr>\n",
       "      <th>0</th>\n",
       "      <td>AwasMart-አዋስማርት🎁</td>\n",
       "      <td>@AwasMart</td>\n",
       "      <td>10204</td>\n",
       "      <td>100 Pieces Disposable Food Cover, Plastic Wrap...</td>\n",
       "      <td>2025-01-20 18:38:37+00:00</td>\n",
       "      <td>NaN</td>\n",
       "      <td>100 B-PRODUCT\\nPieces I-PRODUCT\\nDisposable I-...</td>\n",
       "    </tr>\n",
       "    <tr>\n",
       "      <th>1</th>\n",
       "      <td>AwasMart-አዋስማርት🎁</td>\n",
       "      <td>@AwasMart</td>\n",
       "      <td>10203</td>\n",
       "      <td>100 Pieces Disposable Food Cover, Plastic Wra...</td>\n",
       "      <td>2025-01-20 18:38:37+00:00</td>\n",
       "      <td>photos\\@AwasMart_10203.jpg</td>\n",
       "      <td>100 B-PRODUCT\\nPieces I-PRODUCT\\nDisposable I-...</td>\n",
       "    </tr>\n",
       "    <tr>\n",
       "      <th>2</th>\n",
       "      <td>AwasMart-አዋስማርት🎁</td>\n",
       "      <td>@AwasMart</td>\n",
       "      <td>10202</td>\n",
       "      <td>\\n Rechargeable Flawless Brows</td>\n",
       "      <td>2025-01-20 12:15:15+00:00</td>\n",
       "      <td>NaN</td>\n",
       "      <td>Rechargeable O\\nFlawless O\\nBrows O</td>\n",
       "    </tr>\n",
       "    <tr>\n",
       "      <th>4</th>\n",
       "      <td>AwasMart-አዋስማርት🎁</td>\n",
       "      <td>@AwasMart</td>\n",
       "      <td>10200</td>\n",
       "      <td>\\n Rechargeable Flawless Brows\\n      High Qua...</td>\n",
       "      <td>2025-01-20 12:15:15+00:00</td>\n",
       "      <td>photos\\@AwasMart_10200.jpg</td>\n",
       "      <td>Rechargeable O\\nFlawless O\\nBrows O\\nHigh O\\nQ...</td>\n",
       "    </tr>\n",
       "    <tr>\n",
       "      <th>9</th>\n",
       "      <td>AwasMart-አዋስማርት🎁</td>\n",
       "      <td>@AwasMart</td>\n",
       "      <td>10195</td>\n",
       "      <td>Bottle and nipple brush\\n\\n    ዋጋ፦   350 ብር\\n\\...</td>\n",
       "      <td>2025-01-20 08:09:44+00:00</td>\n",
       "      <td>photos\\@AwasMart_10195.jpg</td>\n",
       "      <td>Bottle B-PRODUCT\\nand I-PRODUCT\\nnipple I-PROD...</td>\n",
       "    </tr>\n",
       "  </tbody>\n",
       "</table>\n",
       "</div>"
      ],
      "text/plain": [
       "      Channel Title Channel Username     ID  \\\n",
       "0  AwasMart-አዋስማርት🎁        @AwasMart  10204   \n",
       "1  AwasMart-አዋስማርት🎁        @AwasMart  10203   \n",
       "2  AwasMart-አዋስማርት🎁        @AwasMart  10202   \n",
       "4  AwasMart-አዋስማርት🎁        @AwasMart  10200   \n",
       "9  AwasMart-አዋስማርት🎁        @AwasMart  10195   \n",
       "\n",
       "                                             Message  \\\n",
       "0  100 Pieces Disposable Food Cover, Plastic Wrap...   \n",
       "1   100 Pieces Disposable Food Cover, Plastic Wra...   \n",
       "2                     \\n Rechargeable Flawless Brows   \n",
       "4  \\n Rechargeable Flawless Brows\\n      High Qua...   \n",
       "9  Bottle and nipple brush\\n\\n    ዋጋ፦   350 ብር\\n\\...   \n",
       "\n",
       "                        Date                  Media Path  \\\n",
       "0  2025-01-20 18:38:37+00:00                         NaN   \n",
       "1  2025-01-20 18:38:37+00:00  photos\\@AwasMart_10203.jpg   \n",
       "2  2025-01-20 12:15:15+00:00                         NaN   \n",
       "4  2025-01-20 12:15:15+00:00  photos\\@AwasMart_10200.jpg   \n",
       "9  2025-01-20 08:09:44+00:00  photos\\@AwasMart_10195.jpg   \n",
       "\n",
       "                                     Labeled_Message  \n",
       "0  100 B-PRODUCT\\nPieces I-PRODUCT\\nDisposable I-...  \n",
       "1  100 B-PRODUCT\\nPieces I-PRODUCT\\nDisposable I-...  \n",
       "2                Rechargeable O\\nFlawless O\\nBrows O  \n",
       "4  Rechargeable O\\nFlawless O\\nBrows O\\nHigh O\\nQ...  \n",
       "9  Bottle B-PRODUCT\\nand I-PRODUCT\\nnipple I-PROD...  "
      ]
     },
     "execution_count": 12,
     "metadata": {},
     "output_type": "execute_result"
    }
   ],
   "source": [
    "def label_message_utf8_with_birr(message):\n",
    "    # Split the message at the first occurrence of '\\n'\n",
    "    if '\\n' in message:\n",
    "        first_line, remaining_message = message.split('\\n', 1)\n",
    "    else:\n",
    "        first_line, remaining_message = message, \"\"\n",
    "    \n",
    "    labeled_tokens = []\n",
    "    \n",
    "    # Tokenize the first line\n",
    "    first_line_tokens = re.findall(r'\\S+', first_line)\n",
    "    \n",
    "    # Label the first token as B-PRODUCT and the rest as I-PRODUCT\n",
    "    if first_line_tokens:\n",
    "        labeled_tokens.append(f\"{first_line_tokens[0]} B-PRODUCT\")  # First token as B-PRODUCT\n",
    "        for token in first_line_tokens[1:]:\n",
    "            labeled_tokens.append(f\"{token} I-PRODUCT\")  # Remaining tokens as I-PRODUCT\n",
    "    \n",
    "    # Process the remaining message normally\n",
    "    if remaining_message:\n",
    "        lines = remaining_message.split('\\n')\n",
    "        for line in lines:\n",
    "            tokens = re.findall(r'\\S+', line)  # Tokenize each line while considering non-ASCII characters\n",
    "            \n",
    "            for token in tokens:\n",
    "                # Check if token is a price (e.g., 500 ETB, $100, or ብር)\n",
    "                if re.match(r'^\\d{10,}$', token):\n",
    "                    labeled_tokens.append(f\"{token} O\")  # Label as O for \"other\" or outside of any entity\n",
    "                elif re.match(r'^\\d+(\\.\\d{1,2})?$', token) or 'ETB' in token or 'ዋጋ' in token or '$' in token or 'ብር' in token:\n",
    "                    labeled_tokens.append(f\"{token} I-PRICE\")\n",
    "                # Check if token could be a location (e.g., cities or general location names)\n",
    "                elif any(loc in token for loc in ['Addis Ababa', 'ለቡ', 'ለቡ መዳህኒዓለም', 'መገናኛ', 'ቦሌ', 'ሜክሲኮ']):\n",
    "                    labeled_tokens.append(f\"{token} I-LOC\")\n",
    "                # Assume other tokens are part of a product name or general text\n",
    "                else:\n",
    "                    labeled_tokens.append(f\"{token} O\")\n",
    "    \n",
    "    return \"\\n\".join(labeled_tokens)\n",
    "\n",
    "# Apply the updated function to the non-null messages\n",
    "df['Labeled_Message'] = df['Message'].apply(label_message_utf8_with_birr)\n",
    "\n",
    "# Display the updated DataFrame\n",
    "df.head()\n"
   ]
  },
  {
   "cell_type": "code",
   "execution_count": 13,
   "metadata": {},
   "outputs": [],
   "source": [
    "labeled_data_birr_path = '../Data/@AwasMart_labeled_telegram_product_price_location.txt'\n",
    "with open(labeled_data_birr_path, 'w', encoding='utf-8') as f:\n",
    "    for index, row in df.iterrows():\n",
    "        f.write(f\"{row['Labeled_Message']}\\n\\n\")"
   ]
  }
 ],
 "metadata": {
  "kernelspec": {
   "display_name": ".venv",
   "language": "python",
   "name": "python3"
  },
  "language_info": {
   "codemirror_mode": {
    "name": "ipython",
    "version": 3
   },
   "file_extension": ".py",
   "mimetype": "text/x-python",
   "name": "python",
   "nbconvert_exporter": "python",
   "pygments_lexer": "ipython3",
   "version": "3.13.1"
  }
 },
 "nbformat": 4,
 "nbformat_minor": 2
}
