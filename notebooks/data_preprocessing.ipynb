{
 "cells": [
  {
   "cell_type": "code",
   "execution_count": 1,
   "metadata": {},
   "outputs": [],
   "source": [
    "import os, sys\n",
    "notebook_dir = os.getcwd()\n",
    "sys.path.append(os.path.abspath(os.path.join(notebook_dir,'..')))"
   ]
  },
  {
   "cell_type": "code",
   "execution_count": 8,
   "metadata": {},
   "outputs": [],
   "source": [
    "from scripts.data_load import *\n",
    "import re"
   ]
  },
  {
   "cell_type": "code",
   "execution_count": 4,
   "metadata": {},
   "outputs": [],
   "source": [
    "df = load_data_excel('../Data/telegram_data.xlsx')"
   ]
  },
  {
   "cell_type": "code",
   "execution_count": 5,
   "metadata": {},
   "outputs": [
    {
     "name": "stdout",
     "output_type": "stream",
     "text": [
      "Checking for NaN values in the 'Message' column:\n",
      "Number of NaN values in 'Message' column: 1849\n"
     ]
    }
   ],
   "source": [
    "print(\"Checking for NaN values in the 'Message' column:\")\n",
    "nan_count = df['Message'].isnull().sum()\n",
    "print(f\"Number of NaN values in 'Message' column: {nan_count}\")"
   ]
  },
  {
   "cell_type": "code",
   "execution_count": 6,
   "metadata": {},
   "outputs": [
    {
     "name": "stdout",
     "output_type": "stream",
     "text": [
      "Dataset shape after dropping NaN values in 'Message' column: (3166, 6)\n"
     ]
    }
   ],
   "source": [
    "df = df.dropna(subset=['Message'])\n",
    "\n",
    "# Print the shape of the dataset after dropping NaN values in the \"Message\" column\n",
    "print(f\"Dataset shape after dropping NaN values in 'Message' column: {df.shape}\")"
   ]
  },
  {
   "cell_type": "code",
   "execution_count": 7,
   "metadata": {},
   "outputs": [
    {
     "data": {
      "text/plain": [
       "5       💥3pcs silicon brush spatulas\\n\\n⚡እስከ 260°c ሙቀት...\n",
       "6       💥Mandoline Slicer\\n\\n👉 ጊዜ ቆጣቢ ስላይስ ማድረጊያ \\n👉  ...\n",
       "7       💥Table Desk Edge Guard Strip\\n       💯 High Qu...\n",
       "8       💥Table Desk Edge Guard Strip\\n       💯 High Qu...\n",
       "10      💥Only baby 3in1 double bottle milk warmer,ster...\n",
       "                              ...                        \n",
       "5009    🎯 Kitchen Sticker\\n\\nለኪችንዎ ውበት እጅግ ተመራጭ \\n🔰ውሀ ...\n",
       "5010    🎯 3in1 One Step Hair Dryer & Styler \\n\\n👉 ከርል ...\n",
       "5011    ✅ Home GYM - X5 slimming vibrator \\n\\n📢📢📢 ታላቅ ...\n",
       "5012    ለጤናችን-Health & Personal Care\\n\\n📍FingerTip Pul...\n",
       "5013    #Finger_tip_pulse_oximeter\\n       #በተመጣጣኝ_ዋጋ\\...\n",
       "Name: Message, Length: 3166, dtype: object"
      ]
     },
     "execution_count": 7,
     "metadata": {},
     "output_type": "execute_result"
    }
   ],
   "source": [
    "message_df=df['Message']\n",
    "message_df"
   ]
  },
  {
   "cell_type": "code",
   "execution_count": 9,
   "metadata": {},
   "outputs": [
    {
     "name": "stdout",
     "output_type": "stream",
     "text": [
      "          Channel Title    Channel Username    ID  \\\n",
      "5   Sheger online-store  @Shageronlinestore  5328   \n",
      "6   Sheger online-store  @Shageronlinestore  5327   \n",
      "7   Sheger online-store  @Shageronlinestore  5326   \n",
      "8   Sheger online-store  @Shageronlinestore  5325   \n",
      "10  Sheger online-store  @Shageronlinestore  5323   \n",
      "\n",
      "                                              Message  \\\n",
      "5   3pcs silicon brush spatulas\\n\\nእስከ 260°c ሙቀት መ...   \n",
      "6   Mandoline Slicer\\n\\n ጊዜ ቆጣቢ ስላይስ ማድረጊያ \\n  ለእጅ...   \n",
      "7   Table Desk Edge Guard Strip\\n        High Qual...   \n",
      "8   Table Desk Edge Guard Strip\\n        High Qual...   \n",
      "10  Only baby 3in1 double bottle milk warmer,steri...   \n",
      "\n",
      "                         Date                          Media Path  \n",
      "5   2024-09-20 11:50:02+00:00  photos/@Shageronlinestore_5328.jpg  \n",
      "6   2024-09-20 08:11:40+00:00                                 NaN  \n",
      "7   2024-09-20 05:23:18+00:00                                 NaN  \n",
      "8   2024-09-20 05:21:14+00:00  photos/@Shageronlinestore_5325.jpg  \n",
      "10  2024-09-19 13:54:46+00:00  photos/@Shageronlinestore_5323.jpg  \n"
     ]
    }
   ],
   "source": [
    "def remove_emojis(text):\n",
    "    emoji_pattern = re.compile(\n",
    "        \"[\" \n",
    "        \"\\U0001F600-\\U0001F64F\"  # emoticons\n",
    "        \"\\U0001F300-\\U0001F5FF\"  # symbols & pictographs\n",
    "        \"\\U0001F680-\\U0001F6FF\"  # transport & map symbols\n",
    "        \"\\U0001F700-\\U0001F77F\"  # alchemical symbols\n",
    "        \"\\U0001F780-\\U0001F7FF\"  # Geometric Shapes Extended\n",
    "        \"\\U0001F800-\\U0001F8FF\"  # Supplemental Arrows-C\n",
    "        \"\\U0001F900-\\U0001F9FF\"  # Supplemental Symbols and Pictographs\n",
    "        \"\\U0001FA00-\\U0001FA6F\"  # Chess Symbols\n",
    "        \"\\U0001FA70-\\U0001FAFF\"  # Symbols and Pictographs Extended-A\n",
    "        \"\\U00002702-\\U000027B0\"  # Dingbats\n",
    "        \"\\U000024C2-\\U0001F251\" \n",
    "        \"]+\", \n",
    "        flags=re.UNICODE\n",
    "    )\n",
    "    return emoji_pattern.sub(r'', text)\n",
    "\n",
    "# Apply the function to the 'Message' column\n",
    "df['Message'] = df['Message'].apply(remove_emojis)\n",
    "\n",
    "# Display the updated DataFrame\n",
    "print(df.head())"
   ]
  },
  {
   "cell_type": "code",
   "execution_count": 10,
   "metadata": {},
   "outputs": [],
   "source": [
    "df.to_csv('../Data/clean_data.csv')"
   ]
  },
  {
   "cell_type": "code",
   "execution_count": 11,
   "metadata": {},
   "outputs": [
    {
     "data": {
      "text/html": [
       "<div>\n",
       "<style scoped>\n",
       "    .dataframe tbody tr th:only-of-type {\n",
       "        vertical-align: middle;\n",
       "    }\n",
       "\n",
       "    .dataframe tbody tr th {\n",
       "        vertical-align: top;\n",
       "    }\n",
       "\n",
       "    .dataframe thead th {\n",
       "        text-align: right;\n",
       "    }\n",
       "</style>\n",
       "<table border=\"1\" class=\"dataframe\">\n",
       "  <thead>\n",
       "    <tr style=\"text-align: right;\">\n",
       "      <th></th>\n",
       "      <th>Channel Title</th>\n",
       "      <th>Channel Username</th>\n",
       "      <th>ID</th>\n",
       "      <th>Message</th>\n",
       "      <th>Date</th>\n",
       "      <th>Media Path</th>\n",
       "      <th>Labeled_Message</th>\n",
       "    </tr>\n",
       "  </thead>\n",
       "  <tbody>\n",
       "    <tr>\n",
       "      <th>5</th>\n",
       "      <td>Sheger online-store</td>\n",
       "      <td>@Shageronlinestore</td>\n",
       "      <td>5328</td>\n",
       "      <td>3pcs silicon brush spatulas\\n\\nእስከ 260°c ሙቀት መ...</td>\n",
       "      <td>2024-09-20 11:50:02+00:00</td>\n",
       "      <td>photos/@Shageronlinestore_5328.jpg</td>\n",
       "      <td>3pcs B-PRODUCT\\nsilicon I-PRODUCT\\nbrush I-PRO...</td>\n",
       "    </tr>\n",
       "    <tr>\n",
       "      <th>6</th>\n",
       "      <td>Sheger online-store</td>\n",
       "      <td>@Shageronlinestore</td>\n",
       "      <td>5327</td>\n",
       "      <td>Mandoline Slicer\\n\\n ጊዜ ቆጣቢ ስላይስ ማድረጊያ \\n  ለእጅ...</td>\n",
       "      <td>2024-09-20 08:11:40+00:00</td>\n",
       "      <td>NaN</td>\n",
       "      <td>Mandoline B-PRODUCT\\nSlicer I-PRODUCT\\nጊዜ O\\nቆ...</td>\n",
       "    </tr>\n",
       "    <tr>\n",
       "      <th>7</th>\n",
       "      <td>Sheger online-store</td>\n",
       "      <td>@Shageronlinestore</td>\n",
       "      <td>5326</td>\n",
       "      <td>Table Desk Edge Guard Strip\\n        High Qual...</td>\n",
       "      <td>2024-09-20 05:23:18+00:00</td>\n",
       "      <td>NaN</td>\n",
       "      <td>Table B-PRODUCT\\nDesk I-PRODUCT\\nEdge I-PRODUC...</td>\n",
       "    </tr>\n",
       "    <tr>\n",
       "      <th>8</th>\n",
       "      <td>Sheger online-store</td>\n",
       "      <td>@Shageronlinestore</td>\n",
       "      <td>5325</td>\n",
       "      <td>Table Desk Edge Guard Strip\\n        High Qual...</td>\n",
       "      <td>2024-09-20 05:21:14+00:00</td>\n",
       "      <td>photos/@Shageronlinestore_5325.jpg</td>\n",
       "      <td>Table B-PRODUCT\\nDesk I-PRODUCT\\nEdge I-PRODUC...</td>\n",
       "    </tr>\n",
       "    <tr>\n",
       "      <th>10</th>\n",
       "      <td>Sheger online-store</td>\n",
       "      <td>@Shageronlinestore</td>\n",
       "      <td>5323</td>\n",
       "      <td>Only baby 3in1 double bottle milk warmer,steri...</td>\n",
       "      <td>2024-09-19 13:54:46+00:00</td>\n",
       "      <td>photos/@Shageronlinestore_5323.jpg</td>\n",
       "      <td>Only B-PRODUCT\\nbaby I-PRODUCT\\n3in1 I-PRODUCT...</td>\n",
       "    </tr>\n",
       "  </tbody>\n",
       "</table>\n",
       "</div>"
      ],
      "text/plain": [
       "          Channel Title    Channel Username    ID  \\\n",
       "5   Sheger online-store  @Shageronlinestore  5328   \n",
       "6   Sheger online-store  @Shageronlinestore  5327   \n",
       "7   Sheger online-store  @Shageronlinestore  5326   \n",
       "8   Sheger online-store  @Shageronlinestore  5325   \n",
       "10  Sheger online-store  @Shageronlinestore  5323   \n",
       "\n",
       "                                              Message  \\\n",
       "5   3pcs silicon brush spatulas\\n\\nእስከ 260°c ሙቀት መ...   \n",
       "6   Mandoline Slicer\\n\\n ጊዜ ቆጣቢ ስላይስ ማድረጊያ \\n  ለእጅ...   \n",
       "7   Table Desk Edge Guard Strip\\n        High Qual...   \n",
       "8   Table Desk Edge Guard Strip\\n        High Qual...   \n",
       "10  Only baby 3in1 double bottle milk warmer,steri...   \n",
       "\n",
       "                         Date                          Media Path  \\\n",
       "5   2024-09-20 11:50:02+00:00  photos/@Shageronlinestore_5328.jpg   \n",
       "6   2024-09-20 08:11:40+00:00                                 NaN   \n",
       "7   2024-09-20 05:23:18+00:00                                 NaN   \n",
       "8   2024-09-20 05:21:14+00:00  photos/@Shageronlinestore_5325.jpg   \n",
       "10  2024-09-19 13:54:46+00:00  photos/@Shageronlinestore_5323.jpg   \n",
       "\n",
       "                                      Labeled_Message  \n",
       "5   3pcs B-PRODUCT\\nsilicon I-PRODUCT\\nbrush I-PRO...  \n",
       "6   Mandoline B-PRODUCT\\nSlicer I-PRODUCT\\nጊዜ O\\nቆ...  \n",
       "7   Table B-PRODUCT\\nDesk I-PRODUCT\\nEdge I-PRODUC...  \n",
       "8   Table B-PRODUCT\\nDesk I-PRODUCT\\nEdge I-PRODUC...  \n",
       "10  Only B-PRODUCT\\nbaby I-PRODUCT\\n3in1 I-PRODUCT...  "
      ]
     },
     "execution_count": 11,
     "metadata": {},
     "output_type": "execute_result"
    }
   ],
   "source": [
    "def label_message_utf8_with_birr(message):\n",
    "    # Split the message at the first occurrence of '\\n'\n",
    "    if '\\n' in message:\n",
    "        first_line, remaining_message = message.split('\\n', 1)\n",
    "    else:\n",
    "        first_line, remaining_message = message, \"\"\n",
    "    \n",
    "    labeled_tokens = []\n",
    "    \n",
    "    # Tokenize the first line\n",
    "    first_line_tokens = re.findall(r'\\S+', first_line)\n",
    "    \n",
    "    # Label the first token as B-PRODUCT and the rest as I-PRODUCT\n",
    "    if first_line_tokens:\n",
    "        labeled_tokens.append(f\"{first_line_tokens[0]} B-PRODUCT\")  # First token as B-PRODUCT\n",
    "        for token in first_line_tokens[1:]:\n",
    "            labeled_tokens.append(f\"{token} I-PRODUCT\")  # Remaining tokens as I-PRODUCT\n",
    "    \n",
    "    # Process the remaining message normally\n",
    "    if remaining_message:\n",
    "        lines = remaining_message.split('\\n')\n",
    "        for line in lines:\n",
    "            tokens = re.findall(r'\\S+', line)  # Tokenize each line while considering non-ASCII characters\n",
    "            \n",
    "            for token in tokens:\n",
    "                # Check if token is a price (e.g., 500 ETB, $100, or ብር)\n",
    "                if re.match(r'^\\d{10,}$', token):\n",
    "                    labeled_tokens.append(f\"{token} O\")  # Label as O for \"other\" or outside of any entity\n",
    "                elif re.match(r'^\\d+(\\.\\d{1,2})?$', token) or 'ETB' in token or 'ዋጋ' in token or '$' in token or 'ብር' in token:\n",
    "                    labeled_tokens.append(f\"{token} I-PRICE\")\n",
    "                # Check if token could be a location (e.g., cities or general location names)\n",
    "                elif any(loc in token for loc in ['Addis Ababa', 'ለቡ', 'ለቡ መዳህኒዓለም', 'መገናኛ', 'ቦሌ', 'ሜክሲኮ']):\n",
    "                    labeled_tokens.append(f\"{token} I-LOC\")\n",
    "                # Assume other tokens are part of a product name or general text\n",
    "                else:\n",
    "                    labeled_tokens.append(f\"{token} O\")\n",
    "    \n",
    "    return \"\\n\".join(labeled_tokens)\n",
    "\n",
    "# Apply the updated function to the non-null messages\n",
    "df['Labeled_Message'] = df['Message'].apply(label_message_utf8_with_birr)\n",
    "\n",
    "# Display the updated DataFrame\n",
    "df.head()\n"
   ]
  },
  {
   "cell_type": "code",
   "execution_count": 12,
   "metadata": {},
   "outputs": [],
   "source": [
    "labeled_data_birr_path = 'labeled_telegram_product_price_location.txt-'\n",
    "with open(labeled_data_birr_path, 'w', encoding='utf-8') as f:\n",
    "    for index, row in df.iterrows():\n",
    "        f.write(f\"{row['Labeled_Message']}\\n\\n\")"
   ]
  }
 ],
 "metadata": {
  "kernelspec": {
   "display_name": ".venv",
   "language": "python",
   "name": "python3"
  },
  "language_info": {
   "codemirror_mode": {
    "name": "ipython",
    "version": 3
   },
   "file_extension": ".py",
   "mimetype": "text/x-python",
   "name": "python",
   "nbconvert_exporter": "python",
   "pygments_lexer": "ipython3",
   "version": "3.13.1"
  }
 },
 "nbformat": 4,
 "nbformat_minor": 2
}
